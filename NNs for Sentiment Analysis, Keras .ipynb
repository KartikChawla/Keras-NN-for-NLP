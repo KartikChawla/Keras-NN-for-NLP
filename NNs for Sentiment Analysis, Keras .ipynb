{
 "cells": [
  {
   "cell_type": "code",
   "execution_count": 1,
   "metadata": {},
   "outputs": [],
   "source": [
    "#This practice notebook relies on the princinples discussed in Deep Learning with Python, by Francois Chollet"
   ]
  },
  {
   "cell_type": "code",
   "execution_count": 2,
   "metadata": {},
   "outputs": [],
   "source": [
    "#basic imports\n",
    "import os\n",
    "import numpy as np\n",
    "import pandas as pd\n",
    "import seaborn as sns\n",
    "import matplotlib.pyplot as plt\n",
    "from sklearn.model_selection import train_test_split"
   ]
  },
  {
   "cell_type": "code",
   "execution_count": 3,
   "metadata": {},
   "outputs": [],
   "source": [
    "%matplotlib inline"
   ]
  },
  {
   "cell_type": "code",
   "execution_count": 4,
   "metadata": {},
   "outputs": [
    {
     "name": "stderr",
     "output_type": "stream",
     "text": [
      "Using TensorFlow backend.\n"
     ]
    }
   ],
   "source": [
    "#keras imports\n",
    "from nltk.tokenize import word_tokenize\n",
    "from keras.preprocessing.text import Tokenizer\n",
    "from keras.layers import Embedding, Dense, Conv1D, Bidirectional, GRU, LSTM, Flatten, SimpleRNN, Dropout\n",
    "from keras import models\n",
    "from keras.preprocessing.text import Tokenizer\n",
    "from keras.preprocessing.sequence import pad_sequences"
   ]
  },
  {
   "cell_type": "code",
   "execution_count": 5,
   "metadata": {},
   "outputs": [],
   "source": [
    "imdb_dir= 'P:\\Databases\\LMR, IMDB'\n",
    "train_dir = os.path.join(imdb_dir, 'train')\n",
    "test_dir = os.path.join(imdb_dir, 'test')"
   ]
  },
  {
   "cell_type": "markdown",
   "metadata": {},
   "source": [
    "Load the data"
   ]
  },
  {
   "cell_type": "code",
   "execution_count": 6,
   "metadata": {},
   "outputs": [],
   "source": [
    "train_labels=[]\n",
    "train_texts=[]\n",
    "test_labels=[]\n",
    "test_texts=[]"
   ]
  },
  {
   "cell_type": "code",
   "execution_count": 7,
   "metadata": {},
   "outputs": [],
   "source": [
    "for label_type in ['neg', 'pos']:\n",
    "    dir_name = os.path.join(train_dir, label_type)\n",
    "    for file in os.listdir(dir_name):\n",
    "        f = open(os.path.join(dir_name, file), encoding = 'utf-8')\n",
    "        train_texts.append(f.read())\n",
    "        f.close()\n",
    "        if (label_type == 'neg'):\n",
    "            train_labels.append(0)\n",
    "        else:\n",
    "            train_labels.append(1)\n"
   ]
  },
  {
   "cell_type": "code",
   "execution_count": 8,
   "metadata": {},
   "outputs": [],
   "source": [
    "for label_type in ['neg', 'pos']:\n",
    "    dir_name = os.path.join(test_dir, label_type)\n",
    "    for file in os.listdir(dir_name):\n",
    "        f = open(os.path.join(dir_name, file), encoding = 'utf-8')\n",
    "        test_texts.append(f.read())\n",
    "        f.close()\n",
    "        if (label_type == 'neg'):\n",
    "            test_labels.append(0)\n",
    "        else:\n",
    "            test_labels.append(1)"
   ]
  },
  {
   "cell_type": "markdown",
   "metadata": {},
   "source": [
    "Explore the data a teeny bit"
   ]
  },
  {
   "cell_type": "code",
   "execution_count": 9,
   "metadata": {},
   "outputs": [
    {
     "name": "stdout",
     "output_type": "stream",
     "text": [
      "2818\n"
     ]
    }
   ],
   "source": [
    "phrase_length=[]\n",
    "for text in train_texts:\n",
    "    words=word_tokenize(text)\n",
    "    l=len(words)\n",
    "    phrase_length.append(l)\n",
    "    \n",
    "max_words=np.max(phrase_length)\n",
    "print(max_words)"
   ]
  },
  {
   "cell_type": "code",
   "execution_count": 10,
   "metadata": {},
   "outputs": [
    {
     "name": "stdout",
     "output_type": "stream",
     "text": [
      "25000\n",
      "25000\n",
      "25000\n",
      "25000\n"
     ]
    }
   ],
   "source": [
    "print(len(train_labels))\n",
    "print(len(train_texts))\n",
    "print(len(test_labels))\n",
    "print(len(test_texts))"
   ]
  },
  {
   "cell_type": "markdown",
   "metadata": {},
   "source": [
    "Set parameters"
   ]
  },
  {
   "cell_type": "code",
   "execution_count": 11,
   "metadata": {},
   "outputs": [],
   "source": [
    "maxlen=2820\n",
    "max_words=10000"
   ]
  },
  {
   "cell_type": "markdown",
   "metadata": {},
   "source": [
    "Tokenize"
   ]
  },
  {
   "cell_type": "code",
   "execution_count": 12,
   "metadata": {},
   "outputs": [
    {
     "name": "stdout",
     "output_type": "stream",
     "text": [
      "Wall time: 6.89 s\n"
     ]
    }
   ],
   "source": [
    "%%time\n",
    "tokenizer=Tokenizer(num_words=max_words)\n",
    "tokenizer.fit_on_texts(train_texts)\n",
    "sequences=tokenizer.texts_to_sequences(train_texts)\n"
   ]
  },
  {
   "cell_type": "code",
   "execution_count": 13,
   "metadata": {},
   "outputs": [
    {
     "name": "stdout",
     "output_type": "stream",
     "text": [
      "Unique words: 88582\n"
     ]
    }
   ],
   "source": [
    "#explore the word index\n",
    "\n",
    "word_index = tokenizer.word_index\n",
    "print('Unique words:', len(word_index))"
   ]
  },
  {
   "cell_type": "code",
   "execution_count": 14,
   "metadata": {},
   "outputs": [
    {
     "name": "stdout",
     "output_type": "stream",
     "text": [
      "(25000, 2820)\n",
      "(25000,)\n"
     ]
    }
   ],
   "source": [
    "data = pad_sequences(sequences, maxlen=maxlen)\n",
    "labels = np.asarray(train_labels)\n",
    "\n",
    "print(data.shape)\n",
    "print(labels.shape)"
   ]
  },
  {
   "cell_type": "code",
   "execution_count": 15,
   "metadata": {},
   "outputs": [],
   "source": [
    "indices = np.arange(data.shape[0])\n",
    "np.random.shuffle(indices)\n",
    "data = data[indices]\n",
    "labels = labels[indices]"
   ]
  },
  {
   "cell_type": "code",
   "execution_count": 16,
   "metadata": {},
   "outputs": [],
   "source": [
    "#create a valuation set\n",
    "x_train, x_val, y_train, y_val = train_test_split(data, labels, test_size=0.2)"
   ]
  },
  {
   "cell_type": "code",
   "execution_count": 17,
   "metadata": {},
   "outputs": [
    {
     "data": {
      "text/plain": [
       "(20000, 2820)"
      ]
     },
     "execution_count": 17,
     "metadata": {},
     "output_type": "execute_result"
    }
   ],
   "source": [
    "x_train.shape"
   ]
  },
  {
   "cell_type": "code",
   "execution_count": 18,
   "metadata": {},
   "outputs": [
    {
     "name": "stdout",
     "output_type": "stream",
     "text": [
      "25000\n",
      "25000\n"
     ]
    }
   ],
   "source": [
    "#prepare the test set\n",
    "test_sequences = tokenizer.texts_to_sequences(test_texts)\n",
    "test_data = pad_sequences(test_sequences, maxlen=maxlen)\n",
    "labels=np.asarray(test_labels)\n",
    "\n",
    "print(len(test_data))\n",
    "print(len(test_labels))"
   ]
  },
  {
   "cell_type": "code",
   "execution_count": 19,
   "metadata": {},
   "outputs": [
    {
     "name": "stdout",
     "output_type": "stream",
     "text": [
      "_________________________________________________________________\n",
      "Layer (type)                 Output Shape              Param #   \n",
      "=================================================================\n",
      "embedding_1 (Embedding)      (None, 2820, 100)         1000000   \n",
      "_________________________________________________________________\n",
      "flatten_1 (Flatten)          (None, 282000)            0         \n",
      "_________________________________________________________________\n",
      "dropout_1 (Dropout)          (None, 282000)            0         \n",
      "_________________________________________________________________\n",
      "dense_1 (Dense)              (None, 32)                9024032   \n",
      "_________________________________________________________________\n",
      "dense_2 (Dense)              (None, 1)                 33        \n",
      "=================================================================\n",
      "Total params: 10,024,065\n",
      "Trainable params: 10,024,065\n",
      "Non-trainable params: 0\n",
      "_________________________________________________________________\n"
     ]
    }
   ],
   "source": [
    "#defining the models\n",
    "\n",
    "#basic model\n",
    "\n",
    "model1= models.Sequential()\n",
    "model1.add(Embedding(max_words, 100, input_length = maxlen))\n",
    "model1.add(Flatten())\n",
    "model1.add(Dropout(0.5))\n",
    "model1.add(Dense(32, activation='relu'))\n",
    "model1.add(Dense(1, activation = 'sigmoid'))\n",
    "model1.summary()"
   ]
  },
  {
   "cell_type": "code",
   "execution_count": 20,
   "metadata": {},
   "outputs": [],
   "source": [
    "model1.compile(optimizer='rmsprop', loss='binary_crossentropy', metrics=['acc'])"
   ]
  },
  {
   "cell_type": "code",
   "execution_count": 21,
   "metadata": {
    "scrolled": true
   },
   "outputs": [
    {
     "name": "stdout",
     "output_type": "stream",
     "text": [
      "Train on 20000 samples, validate on 5000 samples\n",
      "Epoch 1/10\n",
      "20000/20000 [==============================] - 176s 9ms/step - loss: 5.9290 - acc: 0.5011 - val_loss: 0.6931 - val_acc: 0.5038\n",
      "Epoch 2/10\n",
      "20000/20000 [==============================] - 184s 9ms/step - loss: 0.6954 - acc: 0.4959 - val_loss: 0.6997 - val_acc: 0.4950\n",
      "Epoch 3/10\n",
      "20000/20000 [==============================] - 167s 8ms/step - loss: 0.6647 - acc: 0.5706 - val_loss: 0.4629 - val_acc: 0.7742\n",
      "Epoch 4/10\n",
      "20000/20000 [==============================] - 195s 10ms/step - loss: 0.3040 - acc: 0.8703 - val_loss: 0.2995 - val_acc: 0.8766\n",
      "Epoch 5/10\n",
      "20000/20000 [==============================] - 222s 11ms/step - loss: 0.1479 - acc: 0.9423 - val_loss: 0.3294 - val_acc: 0.8772\n",
      "Epoch 6/10\n",
      "20000/20000 [==============================] - 229s 11ms/step - loss: 0.0764 - acc: 0.9711 - val_loss: 0.4114 - val_acc: 0.8700\n",
      "Epoch 7/10\n",
      "20000/20000 [==============================] - 193s 10ms/step - loss: 0.0367 - acc: 0.9868 - val_loss: 0.5076 - val_acc: 0.8760\n",
      "Epoch 8/10\n",
      "20000/20000 [==============================] - 221s 11ms/step - loss: 0.0215 - acc: 0.9916 - val_loss: 0.6041 - val_acc: 0.8766\n",
      "Epoch 9/10\n",
      "20000/20000 [==============================] - 218s 11ms/step - loss: 0.0123 - acc: 0.9960 - val_loss: 0.6985 - val_acc: 0.8688\n",
      "Epoch 10/10\n",
      "20000/20000 [==============================] - 230s 12ms/step - loss: 0.0111 - acc: 0.9963 - val_loss: 0.7580 - val_acc: 0.8702\n"
     ]
    }
   ],
   "source": [
    "history1 = model1.fit(x_train, y_train, epochs=10, batch_size = 32, validation_data=(x_val, y_val))"
   ]
  },
  {
   "cell_type": "code",
   "execution_count": 22,
   "metadata": {
    "scrolled": true
   },
   "outputs": [
    {
     "name": "stdout",
     "output_type": "stream",
     "text": [
      "25000/25000 [==============================] - 32s 1ms/step\n",
      "[0.7241173470971337, 0.8712]\n"
     ]
    }
   ],
   "source": [
    "scores = model1.evaluate(test_data, test_labels, verbose=1)\n",
    "print(scores)"
   ]
  },
  {
   "cell_type": "code",
   "execution_count": 23,
   "metadata": {},
   "outputs": [
    {
     "data": {
      "image/png": "[encoded data removed]",
      "text/plain": [
       "<Figure size 432x288 with 1 Axes>"
      ]
     },
     "metadata": {},
     "output_type": "display_data"
    }
   ],
   "source": [
    "#Plot the model\n",
    "\n",
    "loss = history1.history['loss']\n",
    "val_loss = history1.history['val_loss']\n",
    "\n",
    "epochs = range(1, len(loss) + 1)\n",
    "\n",
    "plt.figure()\n",
    "plt.plot(epochs, loss, 'bo', label = 'Training loss')\n",
    "plt.plot(epochs, val_loss, 'b', label = 'Validation loss')\n",
    "plt.title('Training and validation loss')\n",
    "plt.legend()\n",
    "plt.show()"
   ]
  },
  {
   "cell_type": "code",
   "execution_count": 48,
   "metadata": {
    "scrolled": true
   },
   "outputs": [
    {
     "data": {
      "image/png": "[encoded data removed]",
      "text/plain": [
       "<Figure size 432x288 with 1 Axes>"
      ]
     },
     "metadata": {},
     "output_type": "display_data"
    }
   ],
   "source": [
    "acc = history1.history['acc']\n",
    "val_acc = history1.history['val_acc']\n",
    "\n",
    "epochs = range(1, len(loss) + 1)\n",
    "\n",
    "plt.figure()\n",
    "plt.plot(epochs, acc, 'bo', label = 'Training acc')\n",
    "plt.plot(epochs, val_acc, 'b', label = 'Validation acc')\n",
    "plt.title('Training and validation acc')\n",
    "plt.legend()\n",
    "plt.show()"
   ]
  },
  {
   "cell_type": "code",
   "execution_count": null,
   "metadata": {},
   "outputs": [],
   "source": [
    "#Highest accuracy and lowest loss seems to be at around epoch 4, with a validation accuracy of 87%"
   ]
  },
  {
   "cell_type": "code",
   "execution_count": 25,
   "metadata": {},
   "outputs": [],
   "source": [
    "#Simple RNN model\n",
    "\n",
    "model2=models.Sequential()\n",
    "model2.add(Embedding(max_words, 32))\n",
    "model2.add(SimpleRNN(32))\n",
    "model2.add(Dense(1, activation='sigmoid'))"
   ]
  },
  {
   "cell_type": "code",
   "execution_count": 26,
   "metadata": {},
   "outputs": [],
   "source": [
    "model2.compile(optimizer='rmsprop', loss='binary_crossentropy', metrics=['acc'])"
   ]
  },
  {
   "cell_type": "code",
   "execution_count": 27,
   "metadata": {},
   "outputs": [
    {
     "name": "stdout",
     "output_type": "stream",
     "text": [
      "Train on 20000 samples, validate on 5000 samples\n",
      "Epoch 1/10\n",
      "20000/20000 [==============================] - 305s 15ms/step - loss: 0.5805 - acc: 0.6678 - val_loss: 0.3845 - val_acc: 0.8314\n",
      "Epoch 2/10\n",
      "20000/20000 [==============================] - 266s 13ms/step - loss: 0.3604 - acc: 0.8506 - val_loss: 0.3768 - val_acc: 0.8432\n",
      "Epoch 3/10\n",
      "20000/20000 [==============================] - 156s 8ms/step - loss: 0.2957 - acc: 0.8828 - val_loss: 0.3698 - val_acc: 0.8558\n",
      "Epoch 4/10\n",
      "20000/20000 [==============================] - 159s 8ms/step - loss: 0.2809 - acc: 0.8909 - val_loss: 0.3771 - val_acc: 0.8442\n",
      "Epoch 5/10\n",
      "20000/20000 [==============================] - 158s 8ms/step - loss: 0.2528 - acc: 0.9037 - val_loss: 0.3839 - val_acc: 0.8390\n",
      "Epoch 6/10\n",
      "20000/20000 [==============================] - 154s 8ms/step - loss: 0.2675 - acc: 0.8976 - val_loss: 0.3835 - val_acc: 0.8478\n",
      "Epoch 7/10\n",
      "20000/20000 [==============================] - 154s 8ms/step - loss: 0.2272 - acc: 0.9146 - val_loss: 0.4198 - val_acc: 0.8386\n",
      "Epoch 8/10\n",
      "20000/20000 [==============================] - 162s 8ms/step - loss: 0.2061 - acc: 0.9237 - val_loss: 0.4553 - val_acc: 0.7918\n",
      "Epoch 9/10\n",
      "20000/20000 [==============================] - 150s 7ms/step - loss: 0.2588 - acc: 0.9031 - val_loss: 0.5769 - val_acc: 0.7102\n",
      "Epoch 10/10\n",
      "20000/20000 [==============================] - 151s 8ms/step - loss: 0.3261 - acc: 0.8629 - val_loss: 0.4656 - val_acc: 0.8312\n"
     ]
    }
   ],
   "source": [
    "history2 = model2.fit(x_train, y_train, epochs=10, batch_size = 32, validation_data=(x_val, y_val))"
   ]
  },
  {
   "cell_type": "code",
   "execution_count": 28,
   "metadata": {
    "scrolled": true
   },
   "outputs": [
    {
     "name": "stdout",
     "output_type": "stream",
     "text": [
      "25000/25000 [==============================] - 50s 2ms/step\n",
      "[0.45393314307928084, 0.83304]\n"
     ]
    }
   ],
   "source": [
    "scores = model2.evaluate(test_data, test_labels, verbose=1)\n",
    "print(scores)"
   ]
  },
  {
   "cell_type": "code",
   "execution_count": 29,
   "metadata": {},
   "outputs": [
    {
     "data": {
      "image/png": "[encoded data removed]",
      "text/plain": [
       "<Figure size 432x288 with 1 Axes>"
      ]
     },
     "metadata": {},
     "output_type": "display_data"
    }
   ],
   "source": [
    "#Plot the model\n",
    "\n",
    "loss = history2.history['loss']\n",
    "val_loss = history2.history['val_loss']\n",
    "\n",
    "epochs = range(1, len(loss) + 1)\n",
    "\n",
    "plt.figure()\n",
    "plt.plot(epochs, loss, 'bo', label = 'Training loss')\n",
    "plt.plot(epochs, val_loss, 'b', label = 'Validation loss')\n",
    "plt.title('Training and validation loss')\n",
    "plt.legend()\n",
    "plt.show()"
   ]
  },
  {
   "cell_type": "code",
   "execution_count": 47,
   "metadata": {},
   "outputs": [
    {
     "data": {
      "image/png": "[encoded data removed]",
      "text/plain": [
       "<Figure size 432x288 with 1 Axes>"
      ]
     },
     "metadata": {},
     "output_type": "display_data"
    }
   ],
   "source": [
    "acc = history2.history['acc']\n",
    "val_acc = history2.history['val_acc']\n",
    "\n",
    "epochs = range(1, len(loss) + 1)\n",
    "\n",
    "plt.figure()\n",
    "plt.plot(epochs, acc, 'bo', label = 'Training acc')\n",
    "plt.plot(epochs, val_acc, 'b', label = 'Validation acc')\n",
    "plt.title('Training and validation acc')\n",
    "plt.legend()\n",
    "plt.show()"
   ]
  },
  {
   "cell_type": "code",
   "execution_count": 31,
   "metadata": {},
   "outputs": [],
   "source": [
    "#highest accuracy and lowest loss seems to be at around epoch 3, with a validation accuracy of about 86%\n",
    "#Simple RNN isn't very good at processing long sequences, such as text\n",
    "#Long-term time dependencies are impossible to learn in practice"
   ]
  },
  {
   "cell_type": "code",
   "execution_count": 32,
   "metadata": {},
   "outputs": [],
   "source": [
    "#LSTM layer\n",
    "\n",
    "model3= models.Sequential()\n",
    "model3.add(Embedding(max_words, 64))\n",
    "model3.add(LSTM(32))\n",
    "model3.add(Dense(1,activation='sigmoid'))\n",
    "model3.compile(optimizer='rmsprop', loss='binary_crossentropy', metrics=['acc'])"
   ]
  },
  {
   "cell_type": "code",
   "execution_count": 33,
   "metadata": {
    "scrolled": true
   },
   "outputs": [
    {
     "name": "stdout",
     "output_type": "stream",
     "text": [
      "Train on 20000 samples, validate on 5000 samples\n",
      "Epoch 1/10\n",
      "20000/20000 [==============================] - 420s 21ms/step - loss: 0.4279 - acc: 0.8045 - val_loss: 0.3483 - val_acc: 0.8542\n",
      "Epoch 2/10\n",
      "20000/20000 [==============================] - 437s 22ms/step - loss: 0.2593 - acc: 0.9005 - val_loss: 0.3043 - val_acc: 0.8778\n",
      "Epoch 3/10\n",
      "20000/20000 [==============================] - 453s 23ms/step - loss: 0.2105 - acc: 0.9235 - val_loss: 0.3021 - val_acc: 0.8812\n",
      "Epoch 4/10\n",
      "20000/20000 [==============================] - 432s 22ms/step - loss: 0.1849 - acc: 0.9321 - val_loss: 0.3102 - val_acc: 0.8774\n",
      "Epoch 5/10\n",
      "20000/20000 [==============================] - 429s 21ms/step - loss: 0.1559 - acc: 0.9426 - val_loss: 0.3374 - val_acc: 0.8644\n",
      "Epoch 6/10\n",
      "20000/20000 [==============================] - 409s 20ms/step - loss: 0.1455 - acc: 0.9491 - val_loss: 0.3330 - val_acc: 0.8800\n",
      "Epoch 7/10\n",
      "20000/20000 [==============================] - 409s 20ms/step - loss: 0.1285 - acc: 0.9548 - val_loss: 0.3783 - val_acc: 0.8810\n",
      "Epoch 8/10\n",
      "20000/20000 [==============================] - 391s 20ms/step - loss: 0.1194 - acc: 0.9589 - val_loss: 0.3773 - val_acc: 0.8720\n",
      "Epoch 9/10\n",
      "20000/20000 [==============================] - 379s 19ms/step - loss: 0.1106 - acc: 0.9623 - val_loss: 0.3911 - val_acc: 0.8812\n",
      "Epoch 10/10\n",
      "20000/20000 [==============================] - 396s 20ms/step - loss: 0.1000 - acc: 0.9664 - val_loss: 0.4459 - val_acc: 0.8550\n"
     ]
    }
   ],
   "source": [
    "history3 = model3.fit(x_train, y_train, epochs=10, batch_size = 64, validation_data=(x_val, y_val))"
   ]
  },
  {
   "cell_type": "code",
   "execution_count": 34,
   "metadata": {},
   "outputs": [
    {
     "data": {
      "image/png": "[encoded data removed]",
      "text/plain": [
       "<Figure size 432x288 with 1 Axes>"
      ]
     },
     "metadata": {},
     "output_type": "display_data"
    }
   ],
   "source": [
    "#Plot the model\n",
    "\n",
    "loss = history3.history['loss']\n",
    "val_loss = history3.history['val_loss']\n",
    "\n",
    "epochs = range(1, len(loss) + 1)\n",
    "\n",
    "plt.figure()\n",
    "plt.plot(epochs, loss, 'bo', label = 'Training loss')\n",
    "plt.plot(epochs, val_loss, 'b', label = 'Validation loss')\n",
    "plt.title('Training and validation loss')\n",
    "plt.legend()\n",
    "plt.show()"
   ]
  },
  {
   "cell_type": "code",
   "execution_count": 46,
   "metadata": {
    "scrolled": true
   },
   "outputs": [
    {
     "data": {
      "image/png": "[encoded data removed]",
      "text/plain": [
       "<Figure size 432x288 with 1 Axes>"
      ]
     },
     "metadata": {},
     "output_type": "display_data"
    }
   ],
   "source": [
    "acc = history3.history['acc']\n",
    "val_acc = history3.history['val_acc']\n",
    "\n",
    "epochs = range(1, len(loss) + 1)\n",
    "\n",
    "plt.figure()\n",
    "plt.plot(epochs, acc, 'bo', label = 'Training acc')\n",
    "plt.plot(epochs, val_acc, 'b', label = 'Validation acc')\n",
    "plt.title('Training and validation acc')\n",
    "plt.legend()\n",
    "plt.show()"
   ]
  },
  {
   "cell_type": "code",
   "execution_count": 36,
   "metadata": {},
   "outputs": [],
   "source": [
    "#highest accuracy and lowest loss seems to be at around epoch 2, with a validation accuracy of about 0.88"
   ]
  },
  {
   "cell_type": "code",
   "execution_count": 37,
   "metadata": {},
   "outputs": [
    {
     "name": "stdout",
     "output_type": "stream",
     "text": [
      "25000/25000 [==============================] - 137s 5ms/step\n",
      "[0.45390477530986073, 0.84884]\n"
     ]
    }
   ],
   "source": [
    "scores = model3.evaluate(test_data, test_labels, verbose=1)\n",
    "print(scores) "
   ]
  },
  {
   "cell_type": "code",
   "execution_count": 38,
   "metadata": {},
   "outputs": [],
   "source": [
    "#GRU with dropout\n",
    "\n",
    "model4= models.Sequential()\n",
    "model4.add(Embedding(max_words, 128))\n",
    "model4.add(GRU(64, dropout=0.2, recurrent_dropout=0.2))\n",
    "model4.add(Dense(1,activation='sigmoid'))\n",
    "model4.compile(optimizer='rmsprop', loss='binary_crossentropy', metrics=['acc'])"
   ]
  },
  {
   "cell_type": "code",
   "execution_count": 39,
   "metadata": {},
   "outputs": [
    {
     "name": "stdout",
     "output_type": "stream",
     "text": [
      "Train on 20000 samples, validate on 5000 samples\n",
      "Epoch 1/10\n",
      "20000/20000 [==============================] - 921s 46ms/step - loss: 0.4860 - acc: 0.7672 - val_loss: 0.3685 - val_acc: 0.8420\n",
      "Epoch 2/10\n",
      "20000/20000 [==============================] - 827s 41ms/step - loss: 0.3309 - acc: 0.8658 - val_loss: 0.3537 - val_acc: 0.8606\n",
      "Epoch 3/10\n",
      "20000/20000 [==============================] - 806s 40ms/step - loss: 0.2769 - acc: 0.8935 - val_loss: 0.2998 - val_acc: 0.8796\n",
      "Epoch 4/10\n",
      "20000/20000 [==============================] - 845s 42ms/step - loss: 0.2346 - acc: 0.9114 - val_loss: 0.2915 - val_acc: 0.8838\n",
      "Epoch 5/10\n",
      "20000/20000 [==============================] - 851s 43ms/step - loss: 0.1967 - acc: 0.9276 - val_loss: 0.3021 - val_acc: 0.8820\n",
      "Epoch 6/10\n",
      "20000/20000 [==============================] - 1710s 86ms/step - loss: 0.1716 - acc: 0.9358 - val_loss: 0.2921 - val_acc: 0.8874\n",
      "Epoch 7/10\n",
      "20000/20000 [==============================] - 1181s 59ms/step - loss: 0.1519 - acc: 0.9444 - val_loss: 0.3088 - val_acc: 0.8804\n",
      "Epoch 8/10\n",
      "20000/20000 [==============================] - 878s 44ms/step - loss: 0.1347 - acc: 0.9512 - val_loss: 0.3160 - val_acc: 0.8844\n",
      "Epoch 9/10\n",
      "20000/20000 [==============================] - 849s 42ms/step - loss: 0.1198 - acc: 0.9563 - val_loss: 0.3318 - val_acc: 0.8862\n",
      "Epoch 10/10\n",
      "20000/20000 [==============================] - 826s 41ms/step - loss: 0.1050 - acc: 0.9619 - val_loss: 0.3368 - val_acc: 0.8836\n"
     ]
    }
   ],
   "source": [
    "history4 = model4.fit(x_train, y_train, epochs=10, batch_size = 32, validation_data=(x_val, y_val))"
   ]
  },
  {
   "cell_type": "code",
   "execution_count": 41,
   "metadata": {},
   "outputs": [
    {
     "data": {
      "image/png": "[encoded data removed]",
      "text/plain": [
       "<Figure size 432x288 with 1 Axes>"
      ]
     },
     "metadata": {},
     "output_type": "display_data"
    }
   ],
   "source": [
    "#Plot the model\n",
    "\n",
    "loss = history4.history['loss']\n",
    "val_loss = history4.history['val_loss']\n",
    "\n",
    "epochs = range(1, len(loss) + 1)\n",
    "\n",
    "plt.figure()\n",
    "plt.plot(epochs, loss, 'bo', label = 'Training loss')\n",
    "plt.plot(epochs, val_loss, 'b', label = 'Validation loss')\n",
    "plt.title('Training and validation loss')\n",
    "plt.legend()\n",
    "plt.show()"
   ]
  },
  {
   "cell_type": "code",
   "execution_count": 42,
   "metadata": {},
   "outputs": [
    {
     "data": {
      "image/png": "[encoded data removed]",
      "text/plain": [
       "<Figure size 432x288 with 1 Axes>"
      ]
     },
     "metadata": {},
     "output_type": "display_data"
    }
   ],
   "source": [
    "acc = history4.history['acc']\n",
    "val_acc = history4.history['val_acc']\n",
    "\n",
    "epochs = range(1, len(loss) + 1)\n",
    "\n",
    "plt.figure()\n",
    "plt.plot(epochs, acc, 'bo', label = 'Training acc')\n",
    "plt.plot(epochs, val_acc, 'b', label = 'Validation acc')\n",
    "plt.title('Training and validation acc')\n",
    "plt.legend()\n",
    "plt.show()"
   ]
  },
  {
   "cell_type": "code",
   "execution_count": 43,
   "metadata": {},
   "outputs": [
    {
     "name": "stdout",
     "output_type": "stream",
     "text": [
      "25000/25000 [==============================] - 216s 9ms/step\n",
      "[0.3338586046087742, 0.8816]\n"
     ]
    }
   ],
   "source": [
    "scores = model4.evaluate(test_data, test_labels, verbose=1)\n",
    "print(scores)"
   ]
  },
  {
   "cell_type": "code",
   "execution_count": 44,
   "metadata": {},
   "outputs": [],
   "source": [
    "#highest accuracy and lowest loss seems to be at around epoch 4, with a validation accuracy of about 88%\n",
    "#training this model takes significantly longer due to the increased dimensionality"
   ]
  },
  {
   "cell_type": "code",
   "execution_count": 49,
   "metadata": {},
   "outputs": [],
   "source": [
    "#Despite the different types and complexities of the neural networks used in the later models,\n",
    "#the nature of the task at hand leads the first model to be the second most accurate. \n",
    "#The most accurate model, though, is the 4th model, which uses a combination of GRU layers, dropout, and a higher dimensionsality. "
   ]
  }
 ],
 "metadata": {
  "kernelspec": {
   "display_name": "Python 3",
   "language": "python",
   "name": "python3"
  },
  "language_info": {
   "codemirror_mode": {
    "name": "ipython",
    "version": 3
   },
   "file_extension": ".py",
   "mimetype": "text/x-python",
   "name": "python",
   "nbconvert_exporter": "python",
   "pygments_lexer": "ipython3",
   "version": "3.6.6"
  }
 },
 "nbformat": 4,
 "nbformat_minor": 2
}
